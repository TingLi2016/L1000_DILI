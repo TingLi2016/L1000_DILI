{
 "cells": [
  {
   "cell_type": "code",
   "execution_count": 1,
   "metadata": {},
   "outputs": [
    {
     "name": "stderr",
     "output_type": "stream",
     "text": [
      "Using TensorFlow backend.\n"
     ]
    }
   ],
   "source": [
    "###Loading packages\n",
    "import numpy as np\n",
    "import pandas as pd\n",
    "import math\n",
    "import itertools\n",
    "import warnings\n",
    "warnings.filterwarnings('ignore')\n",
    "\n",
    "from sklearn.model_selection import train_test_split, StratifiedKFold\n",
    "from sklearn.preprocessing import StandardScaler\n",
    "from keras.models import Sequential\n",
    "from keras.layers import Dense\n",
    "from keras import optimizers\n",
    "from keras.callbacks import Callback, ModelCheckpoint\n",
    "from sklearn.utils import class_weight\n",
    "\n",
    "from sklearn import metrics\n",
    "from sklearn.metrics import confusion_matrix, accuracy_score, roc_auc_score, f1_score\n",
    "\n",
    "from keras import backend as K\n",
    "import tensorflow as tf\n",
    "\n",
    "from numpy.random import seed\n",
    "seed(1)\n",
    "from tensorflow import set_random_seed\n",
    "set_random_seed(2)"
   ]
  },
  {
   "cell_type": "code",
   "execution_count": 2,
   "metadata": {},
   "outputs": [],
   "source": [
    "###create model\n",
    "def create_model(optimizer, activation):\n",
    "    \n",
    "    ###define model\n",
    "    model = Sequential()\n",
    "    model.add(Dense(512, activation=activation,input_shape=(978,)))\n",
    "    model.add(Dense(256, activation=activation))\n",
    "    model.add(Dense(128, activation=activation))\n",
    "    model.add(Dense(64, activation=activation))\n",
    "    model.add(Dense(32, activation=activation))\n",
    "    model.add(Dense(16, activation=activation))\n",
    "    model.add(Dense(8, activation=activation))\n",
    "    model.add(Dense(1, activation='sigmoid'))\n",
    "    \n",
    "    ###compile model\n",
    "    model.compile(loss='binary_crossentropy', optimizer=optimizer, metrics=['accuracy',monitor_f])\n",
    "\n",
    "    return model\n",
    "\n",
    "\n",
    "###fit model\n",
    "def fit_model(X_train, y_train, X_test, y_test,n,model_path,model):\n",
    "    ###balanced class weight\n",
    "    class_weights = class_weight.compute_class_weight('balanced', np.unique(y_train),y_train)\n",
    "    ###define checkpoint for the best model\n",
    "    checkpoint = ModelCheckpoint(model_path, verbose=1, monitor='val_monitor_f',save_best_only=True, mode='max')\n",
    "    ###fit model\n",
    "    model.fit(X_train, y_train, validation_data=(X_test, y_test), epochs=n, class_weight=class_weights,callbacks=[checkpoint])\n",
    "\n",
    "\n",
    "###predict the independent validation set\n",
    "def predict_validation(X, y, model_path,model,optimizer):\n",
    "    model.load_weights(model_path)\n",
    "    model.compile(loss='binary_crossentropy',optimizer=optimizer)\n",
    "    y_pred_class = model.predict_classes(X)\n",
    "    y_pred = model.predict(X)\n",
    "    result = measurements(y, y_pred_class, y_pred)\n",
    "    return result\n"
   ]
  },
  {
   "cell_type": "code",
   "execution_count": 3,
   "metadata": {},
   "outputs": [],
   "source": [
    "def measurements(y_test, y_pred, y_pred_prob):  \n",
    "    acc = metrics.accuracy_score(y_test, y_pred)\n",
    "    sensitivity = metrics.recall_score(y_test, y_pred)\n",
    "    TN, FP, FN, TP = confusion_matrix(y_test, y_pred).ravel()\n",
    "    specificity = TN/(TN+FP)\n",
    "    precision = metrics.precision_score(y_test, y_pred)\n",
    "    npv = TN/(TN+FN)\n",
    "    mcc = metrics.matthews_corrcoef(y_test, y_pred)\n",
    "    auc = roc_auc_score(y_test, y_pred_prob)\n",
    "    f1 = metrics.f1_score(y_test, y_pred)\n",
    "    return [auc, sensitivity, specificity, acc, f1, mcc, precision, npv]"
   ]
  },
  {
   "cell_type": "code",
   "execution_count": 4,
   "metadata": {},
   "outputs": [],
   "source": [
    "def evaluation(y_true, y_pred):\n",
    "    y_pred_pos = K.round(K.clip(y_pred, 0, 1))\n",
    "    y_pred_neg = 1 - y_pred_pos\n",
    "\n",
    "    y_pos = K.round(K.clip(y_true, 0, 1))\n",
    "    y_neg = 1 - y_pos\n",
    "\n",
    "    TP = K.sum(y_pos * y_pred_pos)\n",
    "    TN = K.sum(y_neg * y_pred_neg)\n",
    "\n",
    "    FP = K.sum(y_neg * y_pred_pos)\n",
    "    FN = K.sum(y_pos * y_pred_neg)\n",
    "    return TP, TN, FP, FN"
   ]
  },
  {
   "cell_type": "code",
   "execution_count": 5,
   "metadata": {},
   "outputs": [],
   "source": [
    "###monitor function for finding the best models\n",
    "def monitor_f(y_true, y_pred):\n",
    "    TP, TN, FP, FN = evaluation(y_true, y_pred)\n",
    "    part_a = 0.05*(TN/(TN+FP))\n",
    "    part_b = ((TP*TN*TN)-(FP*FN*TN))/((K.sqrt((TP+FP)*(TP+FN)*(TN+FP)*(TN+FN)))*(TN+FP))\n",
    "    return part_a + part_b "
   ]
  },
  {
   "cell_type": "code",
   "execution_count": 6,
   "metadata": {},
   "outputs": [],
   "source": [
    "def print_result(model_name, purpose, result):\n",
    "    print('\\033[1mOptimized {} model {} performance: \\033[0m'.format(model_name, purpose))\n",
    "    print(\"AUC:         {0:.3f}\".format(result[0]))\n",
    "    print(\"Sensitivity: {0:.3f}\".format(result[1]))\n",
    "    print(\"Specificity: {0:.3f}\".format(result[2]))\n",
    "    print(\"Accuracy:    {0:.3f}\".format(result[3]))\n",
    "    print(\"F1:          {0:.3f}\".format(result[4]))\n",
    "    print(\"MCC:         {0:.3f}\".format(result[5]))\n",
    "    print(\"PPV:         {0:.3f}\".format(result[6]))\n",
    "    print(\"NPV:         {0:.3f}\".format(result[7]))"
   ]
  },
  {
   "cell_type": "markdown",
   "metadata": {},
   "source": [
    "### Import dataset\n",
    "#### Data is used for  training and validation\n",
    "#### Test is only used for testing"
   ]
  },
  {
   "cell_type": "code",
   "execution_count": 7,
   "metadata": {},
   "outputs": [],
   "source": [
    "data = pd.read_csv(r'''C:\\Users\\Ting.Li\\Documents\\2019\\projects\\L1000\\data\\github\\data.csv''', low_memory=False)\n",
    "test = pd.read_csv(r'''C:\\Users\\Ting.Li\\Documents\\2019\\projects\\L1000\\data\\github\\testing.csv''', low_memory=False)"
   ]
  },
  {
   "cell_type": "code",
   "execution_count": 8,
   "metadata": {},
   "outputs": [],
   "source": [
    "X = data.iloc[:,3:].values\n",
    "y = data.loc[:,'DILIst.1'].values"
   ]
  },
  {
   "cell_type": "markdown",
   "metadata": {},
   "source": [
    "### Parameter tuning"
   ]
  },
  {
   "cell_type": "code",
   "execution_count": null,
   "metadata": {},
   "outputs": [],
   "source": [
    "col_names =  ['Group', 'model','auc', 'sensitivity','specificity', 'acc', 'f1', 'mcc','precision', 'npv']"
   ]
  },
  {
   "cell_type": "code",
   "execution_count": null,
   "metadata": {},
   "outputs": [],
   "source": [
    "optimizers = ['SGD', 'Adam', 'RMSProp', 'Adadelta']\n",
    "activations = ['relu', 'elu', 'selu', 'tanh']\n",
    "paras = [' '.join(l) for l in itertools.product(optimizers, activations)]\n",
    "\n",
    "col_names =  ['Group', 'model','sensitivity','specificity', 'precision', 'acc', 'mcc', 'auc']\n",
    "training_metrics  = pd.DataFrame(columns = col_names)"
   ]
  },
  {
   "cell_type": "code",
   "execution_count": null,
   "metadata": {},
   "outputs": [],
   "source": [
    "model_root_path = r'''C:\\Users\\Ting.Li\\Documents\\2019\\projects\\L1000\\data\\github\\best_model_'''"
   ]
  },
  {
   "cell_type": "code",
   "execution_count": null,
   "metadata": {
    "scrolled": true
   },
   "outputs": [],
   "source": [
    "for i in range(len(paras)):\n",
    "    optimizer, activation = paras[i].split(' ')[0], paras[i].split(' ')[1]\n",
    "    name = 'DNN_'+'paras_'+str(i)+'_optimizer_'+optimizer+'_activation_'+activation\n",
    "    for j in range(100):\n",
    "        X_train, X_test, y_train, y_test = train_test_split(X,y,stratify=y,test_size=0.2, random_state=j)\n",
    "        model_path = model_root_path + name +'_seed_'+ str(j)+ '_weights.h5'\n",
    "        model = create_model(optimizer, activation)\n",
    "        fit_model(X_train, y_train, X_test, y_test,30,model_path,model)\n",
    "        result = predict_validation(X_test, y_test, model_path, model, optimizer)\n",
    "        training_metrics.loc[len(training_metrics)] = [str(j), name, result[0], result[1], result[2], result[3],  result[4], result[5]]\n",
    "training_metrics.to_csv(r'''C:\\Users\\Ting.Li\\Documents\\2019\\projects\\L1000\\data\\github\\dnn_training_metrics_all.csv''')"
   ]
  },
  {
   "cell_type": "markdown",
   "metadata": {},
   "source": [
    "### Optimized model"
   ]
  },
  {
   "cell_type": "code",
   "execution_count": 9,
   "metadata": {},
   "outputs": [
    {
     "name": "stdout",
     "output_type": "stream",
     "text": [
      "\u001b[1mOptimized DNN model training performance: \u001b[0m\n",
      "AUC:         0.802\n",
      "Sensitivity: 0.851\n",
      "Specificity: 0.630\n",
      "Accuracy:    0.761\n",
      "F1:          0.809\n",
      "MCC:         0.497\n",
      "PPV:         0.771\n",
      "NPV:         0.742\n",
      "\u001b[1mOptimized DNN model testing performance: \u001b[0m\n",
      "AUC:         0.798\n",
      "Sensitivity: 0.839\n",
      "Specificity: 0.603\n",
      "Accuracy:    0.743\n",
      "F1:          0.795\n",
      "MCC:         0.458\n",
      "PPV:         0.756\n",
      "NPV:         0.718\n"
     ]
    }
   ],
   "source": [
    "model = create_model('Adam', 'elu')\n",
    "### Load the optimized model weights\n",
    "model_path = r'''C:\\Users\\Ting.Li\\Documents\\2019\\projects\\L1000\\data\\github\\best_model_DNN_paras_5_paras_optimizer_Adam_activation_elu_seed_93_weights.h5'''\n",
    "X_train, X_test, y_train, y_test = train_test_split(X, y, stratify=y, test_size=0.2, random_state=93)\n",
    "### Optimized DNN model training performance\n",
    "print_result('DNN', 'training', predict_validation(X_test, y_test, model_path, model, 'Adam'))\n",
    "### Optimized DNN model testing performance\n",
    "print_result('DNN', 'testing', predict_validation(test.iloc[:, 3:].values, test.loc[:,'DILIst.1'].values, model_path, model, 'Adam'))"
   ]
  }
 ],
 "metadata": {
  "kernelspec": {
   "display_name": "Python 3",
   "language": "python",
   "name": "python3"
  },
  "language_info": {
   "codemirror_mode": {
    "name": "ipython",
    "version": 3
   },
   "file_extension": ".py",
   "mimetype": "text/x-python",
   "name": "python",
   "nbconvert_exporter": "python",
   "pygments_lexer": "ipython3",
   "version": "3.6.7"
  }
 },
 "nbformat": 4,
 "nbformat_minor": 2
}
