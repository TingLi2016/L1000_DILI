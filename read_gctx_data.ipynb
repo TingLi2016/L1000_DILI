{
 "cells": [
  {
   "cell_type": "markdown",
   "metadata": {},
   "source": [
    "### This code should run in the enviroment with \"cmapPy\" pakeges"
   ]
  },
  {
   "cell_type": "code",
   "execution_count": 1,
   "metadata": {},
   "outputs": [
    {
     "data": {
      "text/plain": [
       "'3.3.3'"
      ]
     },
     "execution_count": 1,
     "metadata": {},
     "output_type": "execute_result"
    }
   ],
   "source": [
    "import pkg_resources\n",
    "\n",
    "pkg_resources.get_distribution(\"cmapPy\").version"
   ]
  },
  {
   "cell_type": "markdown",
   "metadata": {},
   "source": [
    "### import all the required files"
   ]
  },
  {
   "cell_type": "code",
   "execution_count": null,
   "metadata": {},
   "outputs": [],
   "source": [
    "import pandas as pd\n",
    "#import the compounds list we are interested in.\n",
    "drugs = pd.read_excel(r'''C:\\Users\\Ting.Li\\Documents\\2019\\projects\\L1000\\data\\github\\6000_transcriptomic_profiles_id.xlsx''', sheet_name='supplementary1_all')\n",
    "\n",
    "#read the gene feature file, it indicates which gene expression is calculated. The .txt file can be download from https://www.ncbi.nlm.nih.gov/geo/query/acc.cgi?acc=GSE92742. \n",
    "genes = pd.read_csv(r'''C:\\Users\\Ting.Li\\Documents\\2019\\projects\\L1000\\data\\org_data\\GSE92742_Broad_LINCS_gene_info.txt''', sep='\\t', dtype=str)\n",
    "\n",
    "#subset the landmark gene_id\n",
    "gene_id = genes[\"pr_gene_id\"][genes.pr_is_lm == \"1\"]"
   ]
  },
  {
   "cell_type": "markdown",
   "metadata": {},
   "source": [
    "### Parse the level 5 information"
   ]
  },
  {
   "cell_type": "code",
   "execution_count": null,
   "metadata": {},
   "outputs": [],
   "source": [
    "from cmapPy.pandasGEXpress.parse import parse\n",
    "\n",
    "#Find the sig_id for the interested drugs \n",
    "sig_id = drugs.sig_id.unique()\n",
    "#Parse the level5 information, The .gctx file can be download from https://www.ncbi.nlm.nih.gov/geo/query/acc.cgi?acc=GSE92742.\n",
    "sub_level5 = parse(r'''C:\\Users\\Ting.Li\\Documents\\2019\\projects\\L1000\\data\\org_data\\GSE92742_Broad_LINCS_Level5_COMPZ.MODZ_n473647x12328.gctx''', cid = sig_id)\n",
    "\n",
    "###Subset the landmark level5\n",
    "landmark_level5 = sub_level5.data_df.loc[sub_level5.data_df.index.isin(gene_id)]\n",
    "landmark_level5.to_csv(r'''C:\\Users\\Ting.Li\\Documents\\2019\\projects\\L1000\\data\\github\\master_sig_level5_data_landmark.csv''')"
   ]
  }
 ],
 "metadata": {
  "kernelspec": {
   "display_name": "Python 3",
   "language": "python",
   "name": "python3"
  },
  "language_info": {
   "codemirror_mode": {
    "name": "ipython",
    "version": 3
   },
   "file_extension": ".py",
   "mimetype": "text/x-python",
   "name": "python",
   "nbconvert_exporter": "python",
   "pygments_lexer": "ipython3",
   "version": "3.6.7"
  }
 },
 "nbformat": 4,
 "nbformat_minor": 2
}
